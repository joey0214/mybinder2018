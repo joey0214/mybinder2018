{
 "cells": [
  {
   "cell_type": "code",
   "execution_count": null,
   "metadata": {},
   "outputs": [],
   "source": [
    "\n",
    "\n",
    "#matplotlib inline\n",
    "import pandas\n",
    "\n",
    "data = pandas.read_csv(\"gapminder.csv\", index_col=\"country\")\n",
    "\n",
    "years = data.columns.str.strip('gdpPercep_')\n",
    "data.columns = years.astype(int)\n",
    "\n",
    "\n",
    "data.loc[\"Austrelia\"].plot()\n",
    "\n",
    "\n"
   ]
  }
 ],
 "metadata": {
  "kernelspec": {
   "display_name": "Python 2",
   "language": "python",
   "name": "python2"
  },
  "language_info": {
   "codemirror_mode": {
    "name": "ipython",
    "version": 2
   },
   "file_extension": ".py",
   "mimetype": "text/x-python",
   "name": "python",
   "nbconvert_exporter": "python",
   "pygments_lexer": "ipython2",
   "version": "2.7.13"
  }
 },
 "nbformat": 4,
 "nbformat_minor": 2
}
